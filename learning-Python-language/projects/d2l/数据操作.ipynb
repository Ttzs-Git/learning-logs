{
 "cells": [
  {
   "cell_type": "code",
   "execution_count": null,
   "metadata": {},
   "outputs": [],
   "source": [
    "# 数据操作\n",
    "import torch\n",
    "\n",
    "# 生成一个张量(tensor):一个数值数组\n",
    "x = torch.arange(12)\n",
    "print(x)\n",
    "\n",
    "# shape属性返回张量的形状-维度以及该维度下的长度\n",
    "print(x.shape)\n",
    "\n",
    "# 元素的总数-标量\n",
    "print(x.numel())\n",
    "\n",
    "# 改变张良的形状而不改变元素数量和元素值\n",
    "# (行,列)\n",
    "x = x.reshape(3,4)\n",
    "print(x)\n",
    "\n",
    "# 使用全0 全1 或者其他常量构造 或者随机数\n",
    "print(torch.ones((2,3,4)))\n",
    "print(torch.zeros((4,3,2)))\n",
    "\n",
    "# 使用列表\n",
    "x = torch.tensor(([1,2,3,4],[1,2,3,4]))\n",
    "print(x)\n",
    "print(x.shape)\n",
    "print(x.numel())\n",
    "\n",
    "## 元素的运算\n",
    "x = torch.arange(1,11)\n",
    "y = torch.tensor([i**0.5 for i in range(1,11)])\n",
    "# print(x-y)\n",
    "# print(x+y)\n",
    "# print(x*y)\n",
    "# print(x/y)\n",
    "# print(x**y)\n",
    "## 指数运算和开方运算\n",
    "print(torch.exp(x))\n",
    "print(torch.sqrt(y))\n",
    "\n",
    "# # 将张量进行连接\n",
    "x = torch.arange(12,dtype=torch.float32).reshape(3,4)\n",
    "y = torch.tensor([[i for i in range(1,5)],[j for j in range(2,6)],[k for k in range(3,7)]])\n",
    "# # 按行进行连接\n",
    "z = torch.cat((x,y),dim=0)\n",
    "# 按列进行连接\n",
    "a = torch.cat((x,y),dim=1)\n",
    "print(z)\n",
    "print(a)\n",
    "\n",
    "# 逻辑运算\n",
    "print(x!=y)\n",
    "\n",
    "# 求和\n",
    "print(x.sum())\n",
    "\n",
    "# 不同形状的张量的运算--元素的广播机制\n",
    "# 从后向前广播\n",
    "# 元素-扩充到一样\n",
    "# 条件:维度兼容(维度相同,维度为1,维度不存在)\n",
    "a = torch.arange(6).reshape(6)\n",
    "b = torch.arange(4).reshape((4,1))\n",
    "print(a)\n",
    "print(b)\n",
    "print(a+b)\n",
    "\n",
    "#元素访问 -多元数组的访问(索引,切片--只有一元数组)\n",
    "#元素的写入(索引)\n",
    "x[1,2]=3\n",
    "x[:2,0]=0\n",
    "print(x)\n",
    "\n",
    "# 一些操作会改变变量的id\n",
    "# id类似指针,标识号\n",
    "before = id(x)\n",
    "x += y\n",
    "# += 不改变id\n",
    "print(before == id(x))\n",
    "\n",
    "#原地操作-内容改写\n",
    "z = torch.zeros_like(y)\n",
    "print(id(z))\n",
    "z[:]=x+y\n",
    "print(id(z))\n",
    "\n",
    "# NumPy张量-多元数组的运行框架\n",
    "a = x.numpy()\n",
    "b = torch.tensor(a)\n",
    "print(type(a))\n",
    "print(type(b))\n",
    "\n",
    "# 大小为1 的张量可以转化为Python标量\n",
    "a = torch.tensor([1.2])\n",
    "print(a.item())\n",
    "print(int(a))\n",
    "print(float(a))"
   ]
  },
  {
   "cell_type": "code",
   "execution_count": null,
   "metadata": {},
   "outputs": [
    {
     "data": {
      "text/plain": [
       "tensor([2, 2, 2, 2, 2, 2, 2, 2, 2, 2, 2, 2])"
      ]
     },
     "execution_count": 3,
     "metadata": {},
     "output_type": "execute_result"
    }
   ],
   "source": [
    "# 很神奇的地方\n",
    "a = torch.arange(12)\n",
    "b = a.reshape((4,3))\n",
    "b[:]=2\n",
    "# 减少b[:]的使用\n",
    "a"
   ]
  },
  {
   "cell_type": "markdown",
   "metadata": {},
   "source": [
    "Tensor和Array没有区别，只是名字不同而已。在这里，我们使用Tensor来表示Array。\n"
   ]
  },
  {
   "cell_type": "markdown",
   "metadata": {},
   "source": [
    "看了torch文档，并实践了一下，事实上还是有一点点区别的，区别在于被操作的那个tensor是否是连续的，当连续时两者一致，当不连续时reshape会返回新的tensor，该tensor与原来的再无关联，修改reshape返回的tensor不会变更原来的，比如：\n",
    "a = t.rand(3,3)\n",
    "b = a.permute(1,0)\n",
    "c = b.reshape(9)\n",
    "c【0】=100 #这里观察一下a,b对应位置的数值"
   ]
  }
 ],
 "metadata": {
  "kernelspec": {
   "display_name": "d2l",
   "language": "python",
   "name": "python3"
  },
  "language_info": {
   "codemirror_mode": {
    "name": "ipython",
    "version": 3
   },
   "file_extension": ".py",
   "mimetype": "text/x-python",
   "name": "python",
   "nbconvert_exporter": "python",
   "pygments_lexer": "ipython3",
   "version": "3.9.21"
  }
 },
 "nbformat": 4,
 "nbformat_minor": 2
}
