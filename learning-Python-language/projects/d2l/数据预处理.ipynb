{
 "cells": [
  {
   "cell_type": "markdown",
   "metadata": {},
   "source": [
    "# 数据预处理\n",
    "\n",
    "创建一个人工数据集,并储存在csv(逗号分隔集)文件"
   ]
  },
  {
   "cell_type": "code",
   "execution_count": 2,
   "metadata": {},
   "outputs": [],
   "source": [
    "import os"
   ]
  },
  {
   "cell_type": "code",
   "execution_count": null,
   "metadata": {},
   "outputs": [],
   "source": [
    "## 创建一个文件夹\n",
    "os.makedirs(os.path.join('','data'),exist_ok=True)\n",
    "## 创建一个文件\n",
    "data_file= os.path.join('','data','house_tiny.csv')\n",
    "\n",
    "with open(data_file,'w')as f:\n",
    "    f.write('NumRooms,Alley,Prices\\n')\n",
    "    f.write('NA,Pave,12750\\n')\n",
    "    f.write('4,NA,10600\\n')\n",
    "    f.write('2,NA,12313\\n')\n",
    "    f.write('NA,NA,15160\\n')\n",
    "\n",
    "## 读取csv的内容使用pandas库\n",
    "import pandas\n",
    "# 读取数据\n",
    "data = pandas.read_csv(data_file)\n",
    "print(data)\n",
    "\n",
    "## 缺少的数据-典型方法:插值 删除 \n",
    "\n",
    "## 插值\n",
    "inputs,outputs = data.iloc[:,0:2],data.iloc[:,2]\n",
    "# 将NaN视为一个类\n",
    "inputs = pandas.get_dummies(inputs,dummy_na=True)\n",
    "print(inputs)\n",
    "\n",
    "\n",
    "\n",
    "\n",
    "# ## 选择数值列\n",
    "# inputs = inputs.select_dtypes(include=[int,float])\n",
    "## 有数字的均值\n",
    "inputs = inputs.fillna(inputs.mean())\n",
    "# ## 删除有缺失值的行\n",
    "# inputs=inputs.dropna()\n",
    "print(inputs)"
   ]
  },
  {
   "cell_type": "code",
   "execution_count": null,
   "metadata": {},
   "outputs": [],
   "source": [
    "## 转化成张量\n",
    "import torch\n",
    "x,y=torch.tensor(inputs.values),torch.tensor(outputs.values)\n",
    "## 通常使用32位浮点数\n",
    "print(x)\n",
    "print(y)"
   ]
  }
 ],
 "metadata": {
  "kernelspec": {
   "display_name": "d2l",
   "language": "python",
   "name": "python3"
  },
  "language_info": {
   "codemirror_mode": {
    "name": "ipython",
    "version": 3
   },
   "file_extension": ".py",
   "mimetype": "text/x-python",
   "name": "python",
   "nbconvert_exporter": "python",
   "pygments_lexer": "ipython3",
   "version": "3.9.21"
  }
 },
 "nbformat": 4,
 "nbformat_minor": 2
}
