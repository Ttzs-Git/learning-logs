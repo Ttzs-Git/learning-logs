{
 "cells": [
  {
   "cell_type": "markdown",
   "metadata": {},
   "source": [
    "# 数据预处理\n",
    "数据分析工具:pandas(且可以与张量兼容)\n",
    "\n",
    "创建一个人工数据集,并储存在csv(逗号分隔集)文件"
   ]
  },
  {
   "cell_type": "code",
   "execution_count": 19,
   "metadata": {},
   "outputs": [],
   "source": [
    "import os"
   ]
  },
  {
   "cell_type": "code",
   "execution_count": 20,
   "metadata": {},
   "outputs": [
    {
     "name": "stdout",
     "output_type": "stream",
     "text": [
      "   NumRooms Alley  Prices\n",
      "0       NaN  Pave   12750\n",
      "1       4.0   NaN   10600\n",
      "2       2.0   NaN   12313\n",
      "3       NaN   NaN   15160\n"
     ]
    }
   ],
   "source": [
    "## 创建一个文件夹\n",
    "os.makedirs(os.path.join('','data'),exist_ok=True)\n",
    "## 创建一个文件\n",
    "data_file= os.path.join('','data','house_tiny.csv')\n",
    "\n",
    "## 写入csv文件内容\n",
    "with open(data_file,'w')as f:\n",
    "    f.write('NumRooms,Alley,Prices\\n')\n",
    "    f.write('NA,Pave,12750\\n')\n",
    "    f.write('4,NA,10600\\n')\n",
    "    f.write('2,NA,12313\\n')\n",
    "    f.write('NA,NA,15160\\n')\n",
    "\n",
    "## 读取csv的内容使用pandas库\n",
    "import pandas as pd\n",
    "# 读取数据\n",
    "data = pd.read_csv(data_file)\n",
    "print(data)\n"
   ]
  },
  {
   "cell_type": "markdown",
   "metadata": {},
   "source": [
    "缺少的数据的处理方法:插值,删除"
   ]
  },
  {
   "cell_type": "code",
   "execution_count": 21,
   "metadata": {},
   "outputs": [
    {
     "name": "stdout",
     "output_type": "stream",
     "text": [
      "   NumRooms  Alley_Pave  Alley_nan\n",
      "0       3.0        True      False\n",
      "1       4.0       False       True\n",
      "2       2.0       False       True\n",
      "3       3.0       False       True\n"
     ]
    }
   ],
   "source": [
    "## 将data分为两类:inputs(前两列)outputs(最后一列)\n",
    "## 位置索引iloc\n",
    "inputs,outputs = data.iloc[:,0:2],data.iloc[:,2]\n",
    "\n",
    "## 插值\n",
    "inputs = inputs.fillna(inputs.mean(numeric_only=True))\n",
    "# numeric_only确保只有数值进入计算\n",
    "\n",
    "# 将NaN视为一个类\n",
    "inputs = pd.get_dummies(inputs,dummy_na=True)\n",
    "print(inputs)\n"
   ]
  },
  {
   "cell_type": "markdown",
   "metadata": {},
   "source": [
    "转化为张量格式"
   ]
  },
  {
   "cell_type": "code",
   "execution_count": 22,
   "metadata": {},
   "outputs": [
    {
     "name": "stdout",
     "output_type": "stream",
     "text": [
      "tensor([[3., 1., 0.],\n",
      "        [4., 0., 1.],\n",
      "        [2., 0., 1.],\n",
      "        [3., 0., 1.]], dtype=torch.float64)\n",
      "tensor([12750., 10600., 12313., 15160.], dtype=torch.float64)\n"
     ]
    }
   ],
   "source": [
    "import torch\n",
    "x,y=torch.tensor(inputs.values.astype(float)),torch.tensor(outputs.values.astype(float))\n",
    "## 通常使用32位浮点数\n",
    "print(x)\n",
    "print(y)"
   ]
  }
 ],
 "metadata": {
  "kernelspec": {
   "display_name": "d2l",
   "language": "python",
   "name": "python3"
  },
  "language_info": {
   "codemirror_mode": {
    "name": "ipython",
    "version": 3
   },
   "file_extension": ".py",
   "mimetype": "text/x-python",
   "name": "python",
   "nbconvert_exporter": "python",
   "pygments_lexer": "ipython3",
   "version": "3.9.21"
  }
 },
 "nbformat": 4,
 "nbformat_minor": 2
}
